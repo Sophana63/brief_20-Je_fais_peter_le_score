{
 "cells": [
  {
   "cell_type": "code",
   "execution_count": 1,
   "id": "2a688834",
   "metadata": {},
   "outputs": [
    {
     "data": {
      "application/vnd.jupyter.widget-view+json": {
       "model_id": "379baf150e9a4a759be80c11e70519b5",
       "version_major": 2,
       "version_minor": 0
      },
      "text/plain": [
       "MetricVisualizer(layout=Layout(align_self='stretch', height='500px'))"
      ]
     },
     "metadata": {},
     "output_type": "display_data"
    },
    {
     "name": "stdout",
     "output_type": "stream",
     "text": [
      "---------------------\n",
      "CatBoost Accuracy: 0.9242424242424242\n",
      "---------------------\n",
      "RMSE: 0.28\n",
      "R2: 0.70\n"
     ]
    }
   ],
   "source": [
    "import pickle\n",
    "import catboost as cb\n",
    "from catboost import  CatBoostClassifier\n",
    "import numpy as np\n",
    "from sklearn.metrics import r2_score\n",
    "from sklearn.metrics import mean_squared_error\n",
    "\n",
    "with open('Data/train_test_0.2_0.4s.pickle', 'rb') as handle:\n",
    "    data = pickle.load(handle)\n",
    "\n",
    "x_train = data['X_train']\n",
    "y_train = data['y_train']\n",
    "x_test = data['X_test']\n",
    "y_test = data['y_test']\n",
    "\n",
    "clf = CatBoostClassifier(\n",
    "    iterations=600,\n",
    "    depth =10,\n",
    "    custom_loss=['AUC', 'Accuracy']\n",
    ")\n",
    "\n",
    "clf.fit(\n",
    "    x_train, y_train,\n",
    "    eval_set=(x_test, y_test),\n",
    "    verbose=False,\n",
    "    plot=True\n",
    ")\n",
    "\n",
    "pred = clf.predict(x_test)\n",
    "r2 = r2_score(y_test, pred)\n",
    "rmse = (np.sqrt(mean_squared_error(y_test, pred)))\n",
    "\n",
    "print('---------------------')\n",
    "print('CatBoost Accuracy:', clf.score(x_test, y_test))\n",
    "print('---------------------')\n",
    "print('RMSE: {:.2f}'.format(rmse))\n",
    "print('R2: {:.2f}'.format(r2))"
   ]
  },
  {
   "cell_type": "code",
   "execution_count": null,
   "id": "a3d090a0",
   "metadata": {},
   "outputs": [],
   "source": []
  }
 ],
 "metadata": {
  "kernelspec": {
   "display_name": "Python 3.9.15 ('audioEnv')",
   "language": "python",
   "name": "python3"
  },
  "language_info": {
   "codemirror_mode": {
    "name": "ipython",
    "version": 3
   },
   "file_extension": ".py",
   "mimetype": "text/x-python",
   "name": "python",
   "nbconvert_exporter": "python",
   "pygments_lexer": "ipython3",
   "version": "3.9.15"
  },
  "vscode": {
   "interpreter": {
    "hash": "6b41b462ba381f11ea9b9040a050cc5e6e9f81d9428a0d94684916eadde22447"
   }
  }
 },
 "nbformat": 4,
 "nbformat_minor": 5
}
